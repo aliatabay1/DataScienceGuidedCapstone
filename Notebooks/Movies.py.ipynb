{
 "cells": [
  {
   "cell_type": "code",
   "execution_count": null,
   "id": "f91d2bdf",
   "metadata": {},
   "outputs": [],
   "source": [
    "import movies\n",
    "# for testing helper functions\n",
    "ironman_movie = [\"Iron Man 3\", 1.214, 2013, 7.0, 325]\n",
    "print(movies.get_name(ironman_movie))\n",
    "print(movies.get_gross(ironman_movie))\n",
    "print(movies.get_rating(ironman_movie))\n",
    "print(movies.get_num_ratings(ironman_movie))\n",
    "print()\n",
    "# for testing better_movies and averages\n",
    "movies_lst = [\n",
    "# name, gross from box office, year, rating, num_reviews\n",
    "[\"Avengers: Endgame\", 2.797, 2019, 8.2, 532],\n",
    "[\"Avengers: Infinity War\", 2.048, 2018, 7.6, 474],\n",
    "[\"The Avengers\", 1.518, 2012, 8.0, 358],\n",
    "[\"Avengers: Age of Ultron\", 1.405, 2015, 6.8, 370],\n",
    "[\"Black Panther\", 1.346, 2018, 8.3, 515],\n",
    "[\"Incredibles 2\", 1.242, 2018, 7.84, 379],\n",
    "[\"Iron Man 3\", 1.214, 2013, 7.0, 325]\n",
    "]\n",
    "result = movies.better_movies(\"Iron Man 3\", movies_lst)\n",
    "for movie in result:\n",
    "print(movie)\n",
    "print()\n",
    "print(movies.average(\"rating\", movies_lst))\n",
    "print(movies.average(\"gross\", movies_lst))\n",
    "print(movies.average(\"number of ratings\", movies_lst))\n",
    "\n"
   ]
  },
  {
   "cell_type": "code",
   "execution_count": null,
   "id": "67860dab",
   "metadata": {},
   "outputs": [],
   "source": [
    "name gross year rating num_of_ratings\n",
    "“Avengers: Endgame” 2.797 2019 8.2 532\n",
    "“Avengers: Infinity War” 2.048 2018 7.6 474\n",
    "“The Avengers” 1.518 2012 8.0 358\n",
    "“Avengers: Age of Ultron” 1.405 2015 6.8 37\n",
    "“Black Panther” 1.346 2018 8.3 515\n",
    "“Incredibles 2” 1.242 2018 7.84 379\n",
    "“Iron Man 3” 1.214 2013 7.0 325"
   ]
  },
  {
   "cell_type": "code",
   "execution_count": 17,
   "id": "c9b6ddd5",
   "metadata": {},
   "outputs": [],
   "source": [
    "ironman_movie = [\"Iron Man 3\", 1.214, 2013, 7.0, 325]"
   ]
  },
  {
   "cell_type": "code",
   "execution_count": null,
   "id": "38e0b422",
   "metadata": {},
   "outputs": [],
   "source": [
    "#get_name(movie)\n",
    "#The get_name function should return the name in the provided list."
   ]
  },
  {
   "cell_type": "code",
   "execution_count": 18,
   "id": "6027ff17",
   "metadata": {},
   "outputs": [],
   "source": [
    "def get_gross(movie):\n",
    "    gross = movie[1]\n",
    "    return gross\n"
   ]
  },
  {
   "cell_type": "code",
   "execution_count": 19,
   "id": "f4775bda",
   "metadata": {},
   "outputs": [
    {
     "data": {
      "text/plain": [
       "1.214"
      ]
     },
     "execution_count": 19,
     "metadata": {},
     "output_type": "execute_result"
    }
   ],
   "source": [
    "get_gross(ironman_movie)"
   ]
  },
  {
   "cell_type": "code",
   "execution_count": null,
   "id": "3ce8a422",
   "metadata": {},
   "outputs": [],
   "source": [
    "movies_lst = [\n",
    "# name, gross from box office, year, rating, num_reviews\n",
    "[\"Avengers: Endgame\", 2.797, 2019, 8.2, 532],\n",
    "[\"Avengers: Infinity War\", 2.048, 2018, 7.6, 474],\n",
    "[\"The Avengers\", 1.518, 2012, 8.0, 358],\n",
    "[\"Avengers: Age of Ultron\", 1.405, 2015, 6.8, 370],\n",
    "[\"Black Panther\", 1.346, 2018, 8.3, 515],\n",
    "[\"Incredibles 2\", 1.242, 2018, 7.84, 379],\n",
    "[\"Iron Man 3\", 1.214, 2013, 7.0, 325]\n",
    "]\n"
   ]
  },
  {
   "cell_type": "code",
   "execution_count": 30,
   "id": "f2ae56d4",
   "metadata": {},
   "outputs": [
    {
     "data": {
      "text/plain": [
       "2018"
      ]
     },
     "execution_count": 30,
     "metadata": {},
     "output_type": "execute_result"
    }
   ],
   "source": [
    "movies_lst[1][2]"
   ]
  },
  {
   "cell_type": "code",
   "execution_count": null,
   "id": "ee0aee73",
   "metadata": {},
   "outputs": [],
   "source": []
  },
  {
   "cell_type": "code",
   "execution_count": null,
   "id": "16a7ea05",
   "metadata": {},
   "outputs": [],
   "source": []
  },
  {
   "cell_type": "code",
   "execution_count": null,
   "id": "7dd1fad9",
   "metadata": {},
   "outputs": [],
   "source": []
  },
  {
   "cell_type": "code",
   "execution_count": null,
   "id": "70bb4530",
   "metadata": {},
   "outputs": [],
   "source": []
  },
  {
   "cell_type": "code",
   "execution_count": null,
   "id": "9bdb2854",
   "metadata": {},
   "outputs": [],
   "source": []
  },
  {
   "cell_type": "code",
   "execution_count": null,
   "id": "d6ead8b3",
   "metadata": {},
   "outputs": [],
   "source": [
    "result = movies.better_movies(\"Iron Man 3\", movies_lst)\n",
    "for movie in result:\n",
    "    print(movie)\n",
    "print()\n",
    "print(movies.average(\"rating\", movies_lst))\n",
    "print(movies.average(\"gross\", movies_lst))\n",
    "print(movies.average(\"number of ratings\", movies_lst))"
   ]
  },
  {
   "cell_type": "code",
   "execution_count": 39,
   "id": "bea9a01e",
   "metadata": {},
   "outputs": [
    {
     "name": "stdout",
     "output_type": "stream",
     "text": [
      "['Avengers: Endgame', 2.797, 2019, 8.2, 532]\n",
      "['Avengers: Infinity War', 2.048, 2018, 7.6, 474]\n",
      "['The Avengers', 1.518, 2012, 8.0, 358]\n",
      "['Black Panther', 1.346, 2018, 8.3, 515]\n",
      "['Incredibles 2', 1.242, 2018, 7.84, 379]\n"
     ]
    }
   ],
   "source": [
    "def better_movies(movie_name, movies_list):\n",
    "    for movie_name in movies_list:\n",
    "        if movie_na\n",
    "    \n",
    "    \n",
    "for movies in movies_lst:\n",
    "    if movies[3] > 7:\n",
    "        print(movies)"
   ]
  }
 ],
 "metadata": {
  "kernelspec": {
   "display_name": "Python 3",
   "language": "python",
   "name": "python3"
  },
  "language_info": {
   "codemirror_mode": {
    "name": "ipython",
    "version": 3
   },
   "file_extension": ".py",
   "mimetype": "text/x-python",
   "name": "python",
   "nbconvert_exporter": "python",
   "pygments_lexer": "ipython3",
   "version": "3.8.8"
  }
 },
 "nbformat": 4,
 "nbformat_minor": 5
}
